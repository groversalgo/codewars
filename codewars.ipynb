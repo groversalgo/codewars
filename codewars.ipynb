{
 "cells": [
  {
   "cell_type": "markdown",
   "metadata": {},
   "source": [
    "# Convert string to camel case\n",
    "\n",
    "Complete the method/function so that it converts dash/underscore delimited words into camel casing. The first word within the output should be capitalized only if the original word was capitalized (known as Upper Camel Case, also often referred to as Pascal case).\n",
    "\n",
    "Examples\n",
    "\n",
    "'''\n",
    "\"the-stealth-warrior\" gets converted to \"theStealthWarrior\"\n",
    "\"The_Stealth_Warrior\" gets converted to \"TheStealthWarrior\"\n",
    "'''"
   ]
  },
  {
   "cell_type": "code",
   "execution_count": 57,
   "metadata": {},
   "outputs": [
    {
     "name": "stdout",
     "output_type": "stream",
     "text": [
      "TEST 0 PASSED\n",
      "TEST 1 PASSED\n",
      "TEST 2 PASSED\n"
     ]
    }
   ],
   "source": [
    "class TestCases():\n",
    "    def __init__(self):\n",
    "        self.tests = list()\n",
    "        \n",
    "    def add_test(self, incom, outcom):\n",
    "        self.tests.append({'input': incom, 'output': outcom})\n",
    "        \n",
    "    def run_test(self):\n",
    "        for no, test in enumerate(self.tests):\n",
    "            print(f'TEST {no} PASSED' if self.to_camel_case(test['input']) == test['output'] else f'TEST {no} FAILED')\n",
    "            \n",
    "    def to_camel_case(self, text : str) -> str:\n",
    "        return text[0] + text.title().replace('-', '').replace('_','')[1:] if len(text) > 0 else ''\n",
    "    \n",
    "testingCases = TestCases()\n",
    "testingCases.add_test('', '')\n",
    "testingCases.add_test(\"the_stealth_warrior\", \"theStealthWarrior\")\n",
    "testingCases.add_test(\"The-Stealth-Warrior\", \"TheStealthWarrior\")\n",
    "testingCases.run_test()"
   ]
  }
 ],
 "metadata": {
  "instance_type": "ml.t3.medium",
  "kernelspec": {
   "display_name": "Python 3 (Base Python)",
   "language": "python",
   "name": "python3__SAGEMAKER_INTERNAL__arn:aws:sagemaker:eu-central-1:936697816551:image/python-3.6"
  },
  "language_info": {
   "codemirror_mode": {
    "name": "ipython",
    "version": 3
   },
   "file_extension": ".py",
   "mimetype": "text/x-python",
   "name": "python",
   "nbconvert_exporter": "python",
   "pygments_lexer": "ipython3",
   "version": "3.6.13"
  }
 },
 "nbformat": 4,
 "nbformat_minor": 4
}
